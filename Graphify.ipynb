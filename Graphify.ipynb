{
 "cells": [
  {
   "cell_type": "code",
   "execution_count": 2,
   "id": "cc980c9a",
   "metadata": {},
   "outputs": [],
   "source": [
    "#!pip install textacy\n",
    "#!python -m spacy download en_core_web_sm\n",
    "#!pip install python-docx\n",
    "\n",
    "#!pip install pytesseract\n",
    "import spacy\n",
    "import textacy \n",
    "from textacy.extract import subject_verb_object_triples\n",
    "from docx import Document\n",
    "import pandas as pd\n",
    "nlp = spacy.load('en_core_web_sm')"
   ]
  },
  {
   "cell_type": "code",
   "execution_count": 3,
   "id": "9fded1ba",
   "metadata": {},
   "outputs": [],
   "source": [
    "def get_data_from_word(path_to_file):\n",
    "    \n",
    "    \n",
    "    doc_object = open(path_to_file, \"rb\")\n",
    "    \n",
    "    \n",
    "    doc_reader = Document(doc_object)\n",
    "    data = \"\"\n",
    "    \n",
    "    for p in doc_reader.paragraphs:\n",
    "        data += p.text+\"\\n\"\n",
    "        \n",
    "    return data"
   ]
  },
  {
   "cell_type": "code",
   "execution_count": 4,
   "id": "eb8d8f29",
   "metadata": {},
   "outputs": [],
   "source": [
    "text =  get_data_from_word(\"C:\\\\Users\\\\SHIBLU\\\\Desktop\\\\Inp.docx\")"
   ]
  },
  {
   "cell_type": "code",
   "execution_count": 5,
   "id": "22632129",
   "metadata": {},
   "outputs": [
    {
     "name": "stdout",
     "output_type": "stream",
     "text": [
      "Rony plays football.\n",
      "\n",
      "Shiblu reads a book.\n",
      "\n",
      "Bablu eats Mango.\n",
      "\n",
      "Rony plays cricket.\n",
      "\n",
      "I love Bangladesh .\n",
      "\n",
      "I like prefer tea .\n",
      "\n",
      "\n",
      "\n",
      "\n",
      "\n",
      "\n"
     ]
    }
   ],
   "source": [
    "Text_document = nlp(text)\n",
    "sentences_in_doc = list(Text_document.sents)\n",
    "for sen in sentences_in_doc:\n",
    "    print(sen)"
   ]
  },
  {
   "cell_type": "code",
   "execution_count": 6,
   "id": "a6c07534",
   "metadata": {},
   "outputs": [],
   "source": [
    "from tqdm import tqdm"
   ]
  },
  {
   "cell_type": "code",
   "execution_count": 7,
   "id": "ab71c103",
   "metadata": {},
   "outputs": [
    {
     "name": "stderr",
     "output_type": "stream",
     "text": [
      "100%|████████████████████████████████████████████████████████████████████████████████████████████| 6/6 [00:00<?, ?it/s]\n"
     ]
    }
   ],
   "source": [
    "triples_real = []\n",
    "\n",
    "for i in tqdm(sentences_in_doc):\n",
    "    iterator = subject_verb_object_triples(i)\n",
    "    phrase_triples = []\n",
    "    for svo in iterator :\n",
    "        phrase_triples.append(svo)\n",
    "    triples_real.append(phrase_triples)"
   ]
  },
  {
   "cell_type": "code",
   "execution_count": 8,
   "id": "6f29701f",
   "metadata": {},
   "outputs": [],
   "source": [
    "from itertools import chain\n",
    "triples_final = list(chain.from_iterable(triples_real))"
   ]
  },
  {
   "cell_type": "code",
   "execution_count": 9,
   "id": "7eb73bda",
   "metadata": {},
   "outputs": [],
   "source": [
    "svo_data = [[triple[0][0][0], triple[0][1][0], triple[0][2][0]] for triple in triples_real]"
   ]
  },
  {
   "cell_type": "code",
   "execution_count": 10,
   "id": "ffefcbb3",
   "metadata": {},
   "outputs": [],
   "source": [
    "subjects = [triple[0] for triple in svo_data]"
   ]
  },
  {
   "cell_type": "code",
   "execution_count": 11,
   "id": "399fc73d",
   "metadata": {},
   "outputs": [],
   "source": [
    "sub = [f\"{item}\" for item in subjects]"
   ]
  },
  {
   "cell_type": "code",
   "execution_count": 12,
   "id": "4b660d5d",
   "metadata": {},
   "outputs": [],
   "source": [
    "objects = [triple[2] for triple in svo_data]"
   ]
  },
  {
   "cell_type": "code",
   "execution_count": 13,
   "id": "abcb6450",
   "metadata": {},
   "outputs": [],
   "source": [
    "obj = [f\"{item}\" for item in objects]"
   ]
  },
  {
   "cell_type": "code",
   "execution_count": 14,
   "id": "ad49b944",
   "metadata": {},
   "outputs": [],
   "source": [
    "verbs = [triple[1] for triple in svo_data]"
   ]
  },
  {
   "cell_type": "code",
   "execution_count": 15,
   "id": "49bcd49a",
   "metadata": {},
   "outputs": [],
   "source": [
    "vb = [f\"{item}\" for item in verbs]"
   ]
  },
  {
   "cell_type": "code",
   "execution_count": 16,
   "id": "49e73cfe",
   "metadata": {},
   "outputs": [
    {
     "name": "stdout",
     "output_type": "stream",
     "text": [
      "Requirement already satisfied: firebase-admin in c:\\anaconda\\lib\\site-packages (6.2.0)\n",
      "Requirement already satisfied: pyjwt[crypto]>=2.5.0 in c:\\anaconda\\lib\\site-packages (from firebase-admin) (2.8.0)\n",
      "Requirement already satisfied: google-api-core[grpc]<3.0.0dev,>=1.22.1 in c:\\anaconda\\lib\\site-packages (from firebase-admin) (2.11.1)\n",
      "Requirement already satisfied: google-cloud-storage>=1.37.1 in c:\\anaconda\\lib\\site-packages (from firebase-admin) (2.10.0)\n",
      "Requirement already satisfied: google-cloud-firestore>=2.9.1 in c:\\anaconda\\lib\\site-packages (from firebase-admin) (2.12.0)\n",
      "Requirement already satisfied: cachecontrol>=0.12.6 in c:\\anaconda\\lib\\site-packages (from firebase-admin) (0.13.1)\n",
      "Requirement already satisfied: google-api-python-client>=1.7.8 in c:\\anaconda\\lib\\site-packages (from firebase-admin) (2.99.0)\n",
      "Requirement already satisfied: requests>=2.16.0 in c:\\anaconda\\lib\\site-packages (from cachecontrol>=0.12.6->firebase-admin) (2.28.1)\n",
      "Requirement already satisfied: msgpack>=0.5.2 in c:\\anaconda\\lib\\site-packages (from cachecontrol>=0.12.6->firebase-admin) (1.0.3)\n",
      "Requirement already satisfied: protobuf!=3.20.0,!=3.20.1,!=4.21.0,!=4.21.1,!=4.21.2,!=4.21.3,!=4.21.4,!=4.21.5,<5.0.0.dev0,>=3.19.5 in c:\\anaconda\\lib\\site-packages (from google-api-core[grpc]<3.0.0dev,>=1.22.1->firebase-admin) (4.24.3)\n",
      "Requirement already satisfied: googleapis-common-protos<2.0.dev0,>=1.56.2 in c:\\anaconda\\lib\\site-packages (from google-api-core[grpc]<3.0.0dev,>=1.22.1->firebase-admin) (1.60.0)\n",
      "Requirement already satisfied: google-auth<3.0.dev0,>=2.14.1 in c:\\anaconda\\lib\\site-packages (from google-api-core[grpc]<3.0.0dev,>=1.22.1->firebase-admin) (2.23.0)\n",
      "Requirement already satisfied: grpcio<2.0dev,>=1.33.2 in c:\\anaconda\\lib\\site-packages (from google-api-core[grpc]<3.0.0dev,>=1.22.1->firebase-admin) (1.58.0)\n",
      "Requirement already satisfied: grpcio-status<2.0.dev0,>=1.33.2 in c:\\anaconda\\lib\\site-packages (from google-api-core[grpc]<3.0.0dev,>=1.22.1->firebase-admin) (1.58.0)\n",
      "Requirement already satisfied: uritemplate<5,>=3.0.1 in c:\\anaconda\\lib\\site-packages (from google-api-python-client>=1.7.8->firebase-admin) (4.1.1)\n",
      "Requirement already satisfied: httplib2<1.dev0,>=0.15.0 in c:\\anaconda\\lib\\site-packages (from google-api-python-client>=1.7.8->firebase-admin) (0.22.0)\n",
      "Requirement already satisfied: google-auth-httplib2>=0.1.0 in c:\\anaconda\\lib\\site-packages (from google-api-python-client>=1.7.8->firebase-admin) (0.1.1)\n",
      "Requirement already satisfied: proto-plus<2.0.0dev,>=1.22.0 in c:\\anaconda\\lib\\site-packages (from google-cloud-firestore>=2.9.1->firebase-admin) (1.22.3)\n",
      "Requirement already satisfied: google-cloud-core<3.0.0dev,>=1.4.1 in c:\\anaconda\\lib\\site-packages (from google-cloud-firestore>=2.9.1->firebase-admin) (2.3.3)\n",
      "Requirement already satisfied: google-resumable-media>=2.3.2 in c:\\anaconda\\lib\\site-packages (from google-cloud-storage>=1.37.1->firebase-admin) (2.6.0)\n",
      "Requirement already satisfied: cryptography>=3.4.0 in c:\\anaconda\\lib\\site-packages (from pyjwt[crypto]>=2.5.0->firebase-admin) (39.0.1)\n",
      "Requirement already satisfied: cffi>=1.12 in c:\\anaconda\\lib\\site-packages (from cryptography>=3.4.0->pyjwt[crypto]>=2.5.0->firebase-admin) (1.15.1)\n",
      "Requirement already satisfied: rsa<5,>=3.1.4 in c:\\anaconda\\lib\\site-packages (from google-auth<3.0.dev0,>=2.14.1->google-api-core[grpc]<3.0.0dev,>=1.22.1->firebase-admin) (4.9)\n",
      "Requirement already satisfied: cachetools<6.0,>=2.0.0 in c:\\anaconda\\lib\\site-packages (from google-auth<3.0.dev0,>=2.14.1->google-api-core[grpc]<3.0.0dev,>=1.22.1->firebase-admin) (5.3.1)\n",
      "Requirement already satisfied: urllib3<2.0 in c:\\anaconda\\lib\\site-packages (from google-auth<3.0.dev0,>=2.14.1->google-api-core[grpc]<3.0.0dev,>=1.22.1->firebase-admin) (1.26.14)\n",
      "Requirement already satisfied: pyasn1-modules>=0.2.1 in c:\\anaconda\\lib\\site-packages (from google-auth<3.0.dev0,>=2.14.1->google-api-core[grpc]<3.0.0dev,>=1.22.1->firebase-admin) (0.2.8)\n",
      "Requirement already satisfied: google-crc32c<2.0dev,>=1.0 in c:\\anaconda\\lib\\site-packages (from google-resumable-media>=2.3.2->google-cloud-storage>=1.37.1->firebase-admin) (1.5.0)\n",
      "Requirement already satisfied: pyparsing!=3.0.0,!=3.0.1,!=3.0.2,!=3.0.3,<4,>=2.4.2 in c:\\anaconda\\lib\\site-packages (from httplib2<1.dev0,>=0.15.0->google-api-python-client>=1.7.8->firebase-admin) (3.0.9)\n",
      "Requirement already satisfied: certifi>=2017.4.17 in c:\\anaconda\\lib\\site-packages (from requests>=2.16.0->cachecontrol>=0.12.6->firebase-admin) (2022.12.7)\n",
      "Requirement already satisfied: idna<4,>=2.5 in c:\\anaconda\\lib\\site-packages (from requests>=2.16.0->cachecontrol>=0.12.6->firebase-admin) (3.4)\n",
      "Requirement already satisfied: charset-normalizer<3,>=2 in c:\\anaconda\\lib\\site-packages (from requests>=2.16.0->cachecontrol>=0.12.6->firebase-admin) (2.0.4)\n",
      "Requirement already satisfied: pycparser in c:\\anaconda\\lib\\site-packages (from cffi>=1.12->cryptography>=3.4.0->pyjwt[crypto]>=2.5.0->firebase-admin) (2.21)\n",
      "Requirement already satisfied: pyasn1<0.5.0,>=0.4.6 in c:\\anaconda\\lib\\site-packages (from pyasn1-modules>=0.2.1->google-auth<3.0.dev0,>=2.14.1->google-api-core[grpc]<3.0.0dev,>=1.22.1->firebase-admin) (0.4.8)\n"
     ]
    }
   ],
   "source": [
    "!pip install firebase-admin\n",
    "import firebase_admin\n",
    "from firebase_admin import db,credentials\n",
    "\n",
    "cred = credentials.Certificate(r\"C:\\Users\\SHIBLU\\Downloads\\demo1-e8c6e-firebase-adminsdk-97cel-7a094b29d2.json\")\n",
    "firebase_admin.initialize_app(cred, {\n",
    "    'databaseURL': 'https://demo1-e8c6e-default-rtdb.firebaseio.com/'\n",
    "},name = \"g123456\")\n",
    "\n",
    "ref = db.reference(\"/subjects\",app=firebase_admin.get_app(name=\"g123456\"))  \n",
    "\n",
    "#my_list = [\"string1\", \"string2\", \"string3\", \"string4\"]\n",
    "\n",
    "data_to_send = {f\"item_{i}\": item for i, item in enumerate(sub)}\n",
    "\n",
    "ref.set(data_to_send)\n",
    "\n",
    "ref = db.reference(\"/objects\",app=firebase_admin.get_app(name=\"g123456\"))\n",
    "\n",
    "my_list = [\"string1\", \"string2\", \"string3\", \"string4\"]\n",
    "\n",
    "data_to_send = {f\"item_{i}\": item for i, item in enumerate(obj)}\n",
    "\n",
    "ref.set(data_to_send)\n",
    "ref = db.reference(\"/verbs\",app=firebase_admin.get_app(name=\"g123456\"))  \n",
    "data_to_send = {f\"item_{i}\": item for i, item in enumerate(vb)}\n",
    "\n",
    "ref.set(data_to_send)\n"
   ]
  },
  {
   "cell_type": "code",
   "execution_count": null,
   "id": "e233c343",
   "metadata": {},
   "outputs": [],
   "source": []
  }
 ],
 "metadata": {
  "kernelspec": {
   "display_name": "Python 3 (ipykernel)",
   "language": "python",
   "name": "python3"
  },
  "language_info": {
   "codemirror_mode": {
    "name": "ipython",
    "version": 3
   },
   "file_extension": ".py",
   "mimetype": "text/x-python",
   "name": "python",
   "nbconvert_exporter": "python",
   "pygments_lexer": "ipython3",
   "version": "3.10.9"
  }
 },
 "nbformat": 4,
 "nbformat_minor": 5
}
